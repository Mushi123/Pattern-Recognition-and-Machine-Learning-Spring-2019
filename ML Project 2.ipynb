{
 "cells": [
  {
   "cell_type": "code",
   "execution_count": null,
   "metadata": {},
   "outputs": [],
   "source": []
  },
  {
   "cell_type": "code",
   "execution_count": 12,
   "metadata": {},
   "outputs": [],
   "source": [
    "import numpy as np\n",
    "import pandas as pd\n",
    "import matplotlib.pyplot as plt\n",
    "import math\n",
    "%matplotlib inline"
   ]
  },
  {
   "cell_type": "code",
   "execution_count": 65,
   "metadata": {},
   "outputs": [],
   "source": [
    "\n",
    "np.random.seed(42)"
   ]
  },
  {
   "cell_type": "code",
   "execution_count": 84,
   "metadata": {},
   "outputs": [],
   "source": [
    "#Training data\n",
    "N_train = 10\n",
    "X_train = np.random.uniform(size = N_train)\n",
    "X_train = X_train.reshape((-1,1))\n",
    "#print(X_train)\n",
    "t_train = np.sin(2*math.pi*X_train) + np.random.normal(loc=0.0, scale=0.3,size = N_train).reshape((N_train,1))"
   ]
  },
  {
   "cell_type": "code",
   "execution_count": null,
   "metadata": {},
   "outputs": [],
   "source": []
  },
  {
   "cell_type": "code",
   "execution_count": 85,
   "metadata": {},
   "outputs": [],
   "source": [
    "#Test data\n",
    "N_test = 100\n",
    "X_test = np.random.uniform(size = N_test)\n",
    "X_test = X_test.reshape((-1,1))\n",
    "t_test = np.sin(2*math.pi*X_test) + np.random.normal(loc=0.0, scale=0.3,size=N_test).reshape((N_test,1))"
   ]
  },
  {
   "cell_type": "code",
   "execution_count": 86,
   "metadata": {},
   "outputs": [
    {
     "data": {
      "text/plain": [
       "<matplotlib.collections.PathCollection at 0x139a2d0>"
      ]
     },
     "execution_count": 86,
     "metadata": {},
     "output_type": "execute_result"
    },
    {
     "data": {
      "image/png": "[encoded data removed]",
      "text/plain": [
       "<Figure size 432x288 with 1 Axes>"
      ]
     },
     "metadata": {},
     "output_type": "display_data"
    }
   ],
   "source": [
    "plt.scatter(range(0,N_train),X_train,c='b',marker='+')\n",
    "#plt.scatter(range(0,N_test),X_test,c='r',marker='o')\n"
   ]
  },
  {
   "cell_type": "code",
   "execution_count": 90,
   "metadata": {},
   "outputs": [
    {
     "ename": "SyntaxError",
     "evalue": "invalid syntax (<ipython-input-90-9fc8b967b5c2>, line 4)",
     "output_type": "error",
     "traceback": [
      "\u001b[1;36m  File \u001b[1;32m\"<ipython-input-90-9fc8b967b5c2>\"\u001b[1;36m, line \u001b[1;32m4\u001b[0m\n\u001b[1;33m    inner = np.power(np.dot(X,W) - t), 2)\u001b[0m\n\u001b[1;37m                                        ^\u001b[0m\n\u001b[1;31mSyntaxError\u001b[0m\u001b[1;31m:\u001b[0m invalid syntax\n"
     ]
    }
   ],
   "source": [
    "def grad(W,X):\n",
    "    return W.T.dot(X.T).dot(X) - t.values.T.dot(X)\n",
    "def cost(W,X,t):\n",
    "    inner = np.power(np.dot(X,W) - t), 2)\n",
    "    return np.sum(inner)\n",
    "#     c = np.abs(W.T.dot(X.T).dot(X).dot(W) - 2*t.T.dot(X).dot(W) + t.T.dot(t))\n",
    "#     return c\n",
    "def phi(X,order):\n",
    "    if order == 0:\n",
    "        return np.ones((X.shape[0],X.shape[1]))\n",
    "    phi = np.ones((X.shape[0],1))\n",
    "    for i in range(1,order+1):\n",
    "        #print(phi.shape)\n",
    "        #print(X.shape)\n",
    "        phi = np.hstack([phi,X**i])\n",
    "    return phi\n",
    "    "
   ]
  },
  {
   "cell_type": "code",
   "execution_count": 92,
   "metadata": {},
   "outputs": [
    {
     "name": "stdout",
     "output_type": "stream",
     "text": [
      "[[1.]\n",
      " [1.]\n",
      " [1.]\n",
      " [1.]\n",
      " [1.]\n",
      " [1.]\n",
      " [1.]\n",
      " [1.]\n",
      " [1.]\n",
      " [1.]]\n",
      "[[1.         0.63340376]\n",
      " [1.         0.87146059]\n",
      " [1.         0.80367208]\n",
      " [1.         0.18657006]\n",
      " [1.         0.892559  ]\n",
      " [1.         0.53934224]\n",
      " [1.         0.80744016]\n",
      " [1.         0.8960913 ]\n",
      " [1.         0.31800347]\n",
      " [1.         0.11005192]]\n",
      "[[1.         0.63340376 0.40120032]\n",
      " [1.         0.87146059 0.75944356]\n",
      " [1.         0.80367208 0.64588881]\n",
      " [1.         0.18657006 0.03480839]\n",
      " [1.         0.892559   0.79666157]\n",
      " [1.         0.53934224 0.29089005]\n",
      " [1.         0.80744016 0.6519596 ]\n",
      " [1.         0.8960913  0.80297962]\n",
      " [1.         0.31800347 0.10112621]\n",
      " [1.         0.11005192 0.01211143]]\n",
      "[[1.         0.63340376 0.40120032 0.25412179]\n",
      " [1.         0.87146059 0.75944356 0.66182513]\n",
      " [1.         0.80367208 0.64588881 0.5190828 ]\n",
      " [1.         0.18657006 0.03480839 0.0064942 ]\n",
      " [1.         0.892559   0.79666157 0.71106745]\n",
      " [1.         0.53934224 0.29089005 0.15688929]\n",
      " [1.         0.80744016 0.6519596  0.52641836]\n",
      " [1.         0.8960913  0.80297962 0.71954305]\n",
      " [1.         0.31800347 0.10112621 0.03215849]\n",
      " [1.         0.11005192 0.01211143 0.00133289]]\n",
      "[[1.00000000e+00 6.33403757e-01 4.01200319e-01 2.54121789e-01\n",
      "  1.60961696e-01]\n",
      " [1.00000000e+00 8.71460590e-01 7.59443560e-01 6.61825133e-01\n",
      "  5.76754521e-01]\n",
      " [1.00000000e+00 8.03672077e-01 6.45888807e-01 5.19082799e-01\n",
      "  4.17172351e-01]\n",
      " [1.00000000e+00 1.86570059e-01 3.48083869e-02 6.49420279e-03\n",
      "  1.21162380e-03]\n",
      " [1.00000000e+00 8.92558998e-01 7.96661566e-01 7.11067449e-01\n",
      "  6.34669650e-01]\n",
      " [1.00000000e+00 5.39342242e-01 2.90890054e-01 1.56889294e-01\n",
      "  8.46170235e-02]\n",
      " [1.00000000e+00 8.07440155e-01 6.51959604e-01 5.26418364e-01\n",
      "  4.25051325e-01]\n",
      " [1.00000000e+00 8.96091300e-01 8.02979618e-01 7.19543050e-01\n",
      "  6.44776267e-01]\n",
      " [1.00000000e+00 3.18003475e-01 1.01126210e-01 3.21584862e-02\n",
      "  1.02265104e-02]\n",
      " [1.00000000e+00 1.10051925e-01 1.21114261e-02 1.33288575e-03\n",
      "  1.46686642e-04]]\n",
      "[[1.00000000e+00 6.33403757e-01 4.01200319e-01 2.54121789e-01\n",
      "  1.60961696e-01 1.01953743e-01]\n",
      " [1.00000000e+00 8.71460590e-01 7.59443560e-01 6.61825133e-01\n",
      "  5.76754521e-01 5.02618835e-01]\n",
      " [1.00000000e+00 8.03672077e-01 6.45888807e-01 5.19082799e-01\n",
      "  4.17172351e-01 3.35269770e-01]\n",
      " [1.00000000e+00 1.86570059e-01 3.48083869e-02 6.49420279e-03\n",
      "  1.21162380e-03 2.26052723e-04]\n",
      " [1.00000000e+00 8.92558998e-01 7.96661566e-01 7.11067449e-01\n",
      "  6.34669650e-01 5.66480108e-01]\n",
      " [1.00000000e+00 5.39342242e-01 2.90890054e-01 1.56889294e-01\n",
      "  8.46170235e-02 4.56375351e-02]\n",
      " [1.00000000e+00 8.07440155e-01 6.51959604e-01 5.26418364e-01\n",
      "  4.25051325e-01 3.43203508e-01]\n",
      " [1.00000000e+00 8.96091300e-01 8.02979618e-01 7.19543050e-01\n",
      "  6.44776267e-01 5.77778403e-01]\n",
      " [1.00000000e+00 3.18003475e-01 1.01126210e-01 3.21584862e-02\n",
      "  1.02265104e-02 3.25206583e-03]\n",
      " [1.00000000e+00 1.10051925e-01 1.21114261e-02 1.33288575e-03\n",
      "  1.46686642e-04 1.61431473e-05]]\n",
      "[[1.00000000e+00 6.33403757e-01 4.01200319e-01 2.54121789e-01\n",
      "  1.60961696e-01 1.01953743e-01 6.45778837e-02]\n",
      " [1.00000000e+00 8.71460590e-01 7.59443560e-01 6.61825133e-01\n",
      "  5.76754521e-01 5.02618835e-01 4.38012507e-01]\n",
      " [1.00000000e+00 8.03672077e-01 6.45888807e-01 5.19082799e-01\n",
      "  4.17172351e-01 3.35269770e-01 2.69446952e-01]\n",
      " [1.00000000e+00 1.86570059e-01 3.48083869e-02 6.49420279e-03\n",
      "  1.21162380e-03 2.26052723e-04 4.21746699e-05]\n",
      " [1.00000000e+00 8.92558998e-01 7.96661566e-01 7.11067449e-01\n",
      "  6.34669650e-01 5.66480108e-01 5.05616917e-01]\n",
      " [1.00000000e+00 5.39342242e-01 2.90890054e-01 1.56889294e-01\n",
      "  8.46170235e-02 4.56375351e-02 2.46142505e-02]\n",
      " [1.00000000e+00 8.07440155e-01 6.51959604e-01 5.26418364e-01\n",
      "  4.25051325e-01 3.43203508e-01 2.77116294e-01]\n",
      " [1.00000000e+00 8.96091300e-01 8.02979618e-01 7.19543050e-01\n",
      "  6.44776267e-01 5.77778403e-01 5.17742200e-01]\n",
      " [1.00000000e+00 3.18003475e-01 1.01126210e-01 3.21584862e-02\n",
      "  1.02265104e-02 3.25206583e-03 1.03416824e-03]\n",
      " [1.00000000e+00 1.10051925e-01 1.21114261e-02 1.33288575e-03\n",
      "  1.46686642e-04 1.61431473e-05 1.77658442e-06]]\n",
      "[[1.00000000e+00 6.33403757e-01 4.01200319e-01 2.54121789e-01\n",
      "  1.60961696e-01 1.01953743e-01 6.45778837e-02 4.09038741e-02]\n",
      " [1.00000000e+00 8.71460590e-01 7.59443560e-01 6.61825133e-01\n",
      "  5.76754521e-01 5.02618835e-01 4.38012507e-01 3.81710638e-01]\n",
      " [1.00000000e+00 8.03672077e-01 6.45888807e-01 5.19082799e-01\n",
      "  4.17172351e-01 3.35269770e-01 2.69446952e-01 2.16546992e-01]\n",
      " [1.00000000e+00 1.86570059e-01 3.48083869e-02 6.49420279e-03\n",
      "  1.21162380e-03 2.26052723e-04 4.21746699e-05 7.86853064e-06]\n",
      " [1.00000000e+00 8.92558998e-01 7.96661566e-01 7.11067449e-01\n",
      "  6.34669650e-01 5.66480108e-01 5.05616917e-01 4.51292929e-01]\n",
      " [1.00000000e+00 5.39342242e-01 2.90890054e-01 1.56889294e-01\n",
      "  8.46170235e-02 4.56375351e-02 2.46142505e-02 1.32755051e-02]\n",
      " [1.00000000e+00 8.07440155e-01 6.51959604e-01 5.26418364e-01\n",
      "  4.25051325e-01 3.43203508e-01 2.77116294e-01 2.23754823e-01]\n",
      " [1.00000000e+00 8.96091300e-01 8.02979618e-01 7.19543050e-01\n",
      "  6.44776267e-01 5.77778403e-01 5.17742200e-01 4.63944281e-01]\n",
      " [1.00000000e+00 3.18003475e-01 1.01126210e-01 3.21584862e-02\n",
      "  1.02265104e-02 3.25206583e-03 1.03416824e-03 3.28869093e-04]\n",
      " [1.00000000e+00 1.10051925e-01 1.21114261e-02 1.33288575e-03\n",
      "  1.46686642e-04 1.61431473e-05 1.77658442e-06 1.95516535e-07]]\n",
      "[[1.00000000e+00 6.33403757e-01 4.01200319e-01 2.54121789e-01\n",
      "  1.60961696e-01 1.01953743e-01 6.45778837e-02 4.09038741e-02\n",
      "  2.59086675e-02]\n",
      " [1.00000000e+00 8.71460590e-01 7.59443560e-01 6.61825133e-01\n",
      "  5.76754521e-01 5.02618835e-01 4.38012507e-01 3.81710638e-01\n",
      "  3.32645778e-01]\n",
      " [1.00000000e+00 8.03672077e-01 6.45888807e-01 5.19082799e-01\n",
      "  4.17172351e-01 3.35269770e-01 2.69446952e-01 2.16546992e-01\n",
      "  1.74032771e-01]\n",
      " [1.00000000e+00 1.86570059e-01 3.48083869e-02 6.49420279e-03\n",
      "  1.21162380e-03 2.26052723e-04 4.21746699e-05 7.86853064e-06\n",
      "  1.46803222e-06]\n",
      " [1.00000000e+00 8.92558998e-01 7.96661566e-01 7.11067449e-01\n",
      "  6.34669650e-01 5.66480108e-01 5.05616917e-01 4.51292929e-01\n",
      "  4.02805565e-01]\n",
      " [1.00000000e+00 5.39342242e-01 2.90890054e-01 1.56889294e-01\n",
      "  8.46170235e-02 4.56375351e-02 2.46142505e-02 1.32755051e-02\n",
      "  7.16004066e-03]\n",
      " [1.00000000e+00 8.07440155e-01 6.51959604e-01 5.26418364e-01\n",
      "  4.25051325e-01 3.43203508e-01 2.77116294e-01 2.23754823e-01\n",
      "  1.80668629e-01]\n",
      " [1.00000000e+00 8.96091300e-01 8.02979618e-01 7.19543050e-01\n",
      "  6.44776267e-01 5.77778403e-01 5.17742200e-01 4.63944281e-01\n",
      "  4.15736434e-01]\n",
      " [1.00000000e+00 3.18003475e-01 1.01126210e-01 3.21584862e-02\n",
      "  1.02265104e-02 3.25206583e-03 1.03416824e-03 3.28869093e-04\n",
      "  1.04581514e-04]\n",
      " [1.00000000e+00 1.10051925e-01 1.21114261e-02 1.33288575e-03\n",
      "  1.46686642e-04 1.61431473e-05 1.77658442e-06 1.95516535e-07\n",
      "  2.15169709e-08]]\n",
      "[[1.00000000e+00 6.33403757e-01 4.01200319e-01 2.54121789e-01\n",
      "  1.60961696e-01 1.01953743e-01 6.45778837e-02 4.09038741e-02\n",
      "  2.59086675e-02 1.64106473e-02]\n",
      " [1.00000000e+00 8.71460590e-01 7.59443560e-01 6.61825133e-01\n",
      "  5.76754521e-01 5.02618835e-01 4.38012507e-01 3.81710638e-01\n",
      "  3.32645778e-01 2.89887686e-01]\n",
      " [1.00000000e+00 8.03672077e-01 6.45888807e-01 5.19082799e-01\n",
      "  4.17172351e-01 3.35269770e-01 2.69446952e-01 2.16546992e-01\n",
      "  1.74032771e-01 1.39865278e-01]\n",
      " [1.00000000e+00 1.86570059e-01 3.48083869e-02 6.49420279e-03\n",
      "  1.21162380e-03 2.26052723e-04 4.21746699e-05 7.86853064e-06\n",
      "  1.46803222e-06 2.73890859e-07]\n",
      " [1.00000000e+00 8.92558998e-01 7.96661566e-01 7.11067449e-01\n",
      "  6.34669650e-01 5.66480108e-01 5.05616917e-01 4.51292929e-01\n",
      "  4.02805565e-01 3.59527732e-01]\n",
      " [1.00000000e+00 5.39342242e-01 2.90890054e-01 1.56889294e-01\n",
      "  8.46170235e-02 4.56375351e-02 2.46142505e-02 1.32755051e-02\n",
      "  7.16004066e-03 3.86171238e-03]\n",
      " [1.00000000e+00 8.07440155e-01 6.51959604e-01 5.26418364e-01\n",
      "  4.25051325e-01 3.43203508e-01 2.77116294e-01 2.23754823e-01\n",
      "  1.80668629e-01 1.45879106e-01]\n",
      " [1.00000000e+00 8.96091300e-01 8.02979618e-01 7.19543050e-01\n",
      "  6.44776267e-01 5.77778403e-01 5.17742200e-01 4.63944281e-01\n",
      "  4.15736434e-01 3.72537802e-01]\n",
      " [1.00000000e+00 3.18003475e-01 1.01126210e-01 3.21584862e-02\n",
      "  1.02265104e-02 3.25206583e-03 1.03416824e-03 3.28869093e-04\n",
      "  1.04581514e-04 3.32572850e-05]\n",
      " [1.00000000e+00 1.10051925e-01 1.21114261e-02 1.33288575e-03\n",
      "  1.46686642e-04 1.61431473e-05 1.77658442e-06 1.95516535e-07\n",
      "  2.15169709e-08 2.36798406e-09]]\n"
     ]
    }
   ],
   "source": [
    "train_cost = []\n",
    "test_cost = []\n",
    "for order in range(0,10):\n",
    "    #print(order)\n",
    "    d = phi(X_train,order)\n",
    "    print(d)\n",
    "    W = np.matmul(np.linalg.pinv(d),t_train)\n",
    "    #print(cost(W,d,t_train))\n",
    "    train_cost.append( math.sqrt(cost(W,d,t_train)/N_train))\n",
    "    test_cost.append( math.sqrt(cost(W,phi(X_test,order),t_test)/N_test))"
   ]
  },
  {
   "cell_type": "code",
   "execution_count": 93,
   "metadata": {},
   "outputs": [
    {
     "name": "stdout",
     "output_type": "stream",
     "text": [
      "[0.783199106439197, 0.3632101409080741, 0.35894816272935753, 0.15586206739149802, 0.15456003679963223, 0.14764993032355253, 0.14624444318607635, 0.11928564038171127, 0.03953324730815964, 0.00014219098341563413]\n",
      "[0.8302866449940492, 0.5547138752260798, 0.56192007960163, 0.3713704614809534, 0.39378861011137517, 0.5507554209273512, 0.4767372989626477, 3.4423562171096744, 350.3883224780052, 2676.7450027698683]\n",
      "[[-1.86277792e+04]\n",
      " [ 4.76048939e+05]\n",
      " [-4.85103499e+06]\n",
      " [ 2.62449164e+07]\n",
      " [-8.43525181e+07]\n",
      " [ 1.69292262e+08]\n",
      " [-2.14491627e+08]\n",
      " [ 1.66870401e+08]\n",
      " [-7.28304533e+07]\n",
      " [ 1.36607319e+07]]\n"
     ]
    }
   ],
   "source": [
    "print(train_cost)\n",
    "print(test_cost)\n",
    "print(W)"
   ]
  },
  {
   "cell_type": "code",
   "execution_count": 94,
   "metadata": {},
   "outputs": [
    {
     "data": {
      "text/plain": [
       "(0, 1)"
      ]
     },
     "execution_count": 94,
     "metadata": {},
     "output_type": "execute_result"
    },
    {
     "data": {
      "image/png": "[encoded data removed]",
      "text/plain": [
       "<Figure size 432x288 with 1 Axes>"
      ]
     },
     "metadata": {},
     "output_type": "display_data"
    }
   ],
   "source": [
    "plt.plot(range(0,10),train_cost,marker='o')\n",
    "plt.plot(range(0,10),test_cost,marker='x')\n",
    "plt.ylim(0,1)"
   ]
  },
  {
   "cell_type": "code",
   "execution_count": null,
   "metadata": {},
   "outputs": [],
   "source": [
    "# If error shoots up, try normalizing features or normalizing the errors"
   ]
  }
 ],
 "metadata": {
  "kernelspec": {
   "display_name": "Python 3",
   "language": "python",
   "name": "python3"
  },
  "language_info": {
   "codemirror_mode": {
    "name": "ipython",
    "version": 3
   },
   "file_extension": ".py",
   "mimetype": "text/x-python",
   "name": "python",
   "nbconvert_exporter": "python",
   "pygments_lexer": "ipython3",
   "version": "3.7.0"
  }
 },
 "nbformat": 4,
 "nbformat_minor": 2
}
