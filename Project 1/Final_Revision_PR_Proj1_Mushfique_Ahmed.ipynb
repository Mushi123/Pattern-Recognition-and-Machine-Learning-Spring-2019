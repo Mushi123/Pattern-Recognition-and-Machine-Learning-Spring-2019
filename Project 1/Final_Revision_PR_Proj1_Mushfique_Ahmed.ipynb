{
 "cells": [
  {
   "cell_type": "markdown",
   "metadata": {},
   "source": [
    "## Dependency imports"
   ]
  },
  {
   "cell_type": "code",
   "execution_count": 25,
   "metadata": {},
   "outputs": [],
   "source": [
    "import numpy as np\n",
    "import pandas as pd\n",
    "import matplotlib.pyplot as plt\n",
    "import seaborn as sns\n",
    "%matplotlib inline"
   ]
  },
  {
   "cell_type": "markdown",
   "metadata": {},
   "source": [
    "## Data Import"
   ]
  },
  {
   "cell_type": "code",
   "execution_count": 46,
   "metadata": {},
   "outputs": [],
   "source": [
    "# Assign spreadsheet filename to `file`\n",
    "file = 'iris.xlsx'\n",
    "df = pd.read_excel (file)\n",
    "iris_df = pd.DataFrame(df,columns = ['sepal_length','sepal_width','petal_length','petal_width','label']) # 150 x 5\n"
   ]
  },
  {
   "cell_type": "markdown",
   "metadata": {},
   "source": [
    "## Statistics calculation and display"
   ]
  },
  {
   "cell_type": "code",
   "execution_count": 40,
   "metadata": {},
   "outputs": [],
   "source": [
    "def calculate_stats(iris_df):    \n",
    "        '''\n",
    "        Returns a dataframe object contating all the required statistics asked in question\n",
    "        input: iris_df - 150 by 5 original dataset of flowers\n",
    "        output: info - dataframe containing essential statistics\n",
    "        '''\n",
    "        ## Getting the min, max, mean, variance\n",
    "        '/***********************************************/'\n",
    "        sepal_length_min = iris_df.sepal_length.min()\n",
    "        sepal_length_max = iris_df.sepal_length.max()\n",
    "        sepal_length_mean = iris_df.sepal_length.mean()\n",
    "        sepal_length_var = iris_df.sepal_length.var()\n",
    "        '/***********************************************/'\n",
    "        sepal_width_min = iris_df.sepal_width.min()\n",
    "        sepal_width_max = iris_df.sepal_width.max()\n",
    "        sepal_width_mean = iris_df.sepal_width.mean()\n",
    "        sepal_width_var = iris_df.sepal_width.var()\n",
    "        '/***********************************************/'\n",
    "        petal_length_min = iris_df.petal_length.min()\n",
    "        petal_length_max = iris_df.petal_length.max()\n",
    "        petal_length_mean = iris_df.petal_length.mean()\n",
    "        petal_length_var = iris_df.petal_length.var()\n",
    "        '/***********************************************/'\n",
    "        petal_width_min = iris_df.petal_width.min()\n",
    "        petal_width_max = iris_df.petal_width.max()\n",
    "        petal_width_mean = iris_df.petal_width.mean()\n",
    "        petal_width_var = iris_df.petal_width.var()\n",
    "\n",
    "        grouped = iris_df.groupby(['label']).describe()\n",
    "        grouped['petal_length','var'] = iris_df.groupby(['label']).var()['petal_length'].values\n",
    "        grouped['petal_width','var'] = iris_df.groupby(['label']).var()['petal_width'].values\n",
    "        grouped['sepal_length','var'] = iris_df.groupby(['label']).var()['sepal_length'].values\n",
    "        grouped['sepal_width','var'] = iris_df.groupby(['label']).var()['sepal_width'].values\n",
    "        grouped = grouped.T # Comes out 3 by 32 so we wanted 32 by 3\n",
    "\n",
    "        ## Within class variance\n",
    "        sepal_length_sw = (grouped.loc['sepal_length','count']/150 * grouped.loc['sepal_length','var']).sum()\n",
    "        sepal_width_sw = (grouped.loc['sepal_width','count']/150 * grouped.loc['sepal_width','var']).sum()\n",
    "        petal_length_sw = (grouped.loc['petal_length','count']/150 * grouped.loc['petal_length','var']).sum()\n",
    "        petal_width_sw = (grouped.loc['petal_width','count']/150 * grouped.loc['petal_width','var']).sum()\n",
    "        #print(sepal_length_sw, sepal_width_sw, petal_length_sw, petal_width_sw)\n",
    "\n",
    "        ## Between class variance\n",
    "        sepal_length_sb = (grouped.loc['sepal_length','count']/150 * (grouped.loc['sepal_length','mean'] - sepal_length_mean) ** 2).sum()\n",
    "        sepal_width_sb = (grouped.loc['sepal_width','count']/150 * (grouped.loc['sepal_width','mean'] - sepal_width_mean)**2).sum()\n",
    "        petal_length_sb = (grouped.loc['petal_length','count']/150 * (grouped.loc['petal_length','mean'] - petal_length_mean)**2).sum()\n",
    "        petal_width_sb = (grouped.loc['petal_width','count']/150 * (grouped.loc['petal_width','mean'] - petal_width_mean)**2).sum()\n",
    "        #print(sepal_length_sb, sepal_width_sb, petal_length_sb, petal_width_sb)\n",
    "\n",
    "        info = iris_df.describe()\n",
    "        info.loc['var'] = iris_df[['sepal_length','sepal_width','petal_length','petal_width']].apply(np.var,axis = 0) \n",
    "        swb = pd.DataFrame({'sw':[sepal_length_sw,sepal_width_sw,petal_length_sw,petal_width_sw],'sb':[sepal_length_sb,sepal_width_sb,petal_length_sb,petal_width_sb]},index=['sepal_length','sepal_width','petal_length','petal_width'])\n",
    "        info = info.append(swb['sw'])\n",
    "        info = info.append(swb['sb'])\n",
    "\n",
    "        \n",
    "        return info"
   ]
  },
  {
   "cell_type": "code",
   "execution_count": 41,
   "metadata": {},
   "outputs": [
    {
     "data": {
      "text/html": [
       "<div>\n",
       "<style scoped>\n",
       "    .dataframe tbody tr th:only-of-type {\n",
       "        vertical-align: middle;\n",
       "    }\n",
       "\n",
       "    .dataframe tbody tr th {\n",
       "        vertical-align: top;\n",
       "    }\n",
       "\n",
       "    .dataframe thead th {\n",
       "        text-align: right;\n",
       "    }\n",
       "</style>\n",
       "<table border=\"1\" class=\"dataframe\">\n",
       "  <thead>\n",
       "    <tr style=\"text-align: right;\">\n",
       "      <th></th>\n",
       "      <th>sepal_length</th>\n",
       "      <th>sepal_width</th>\n",
       "      <th>petal_length</th>\n",
       "      <th>petal_width</th>\n",
       "    </tr>\n",
       "  </thead>\n",
       "  <tbody>\n",
       "    <tr>\n",
       "      <th>count</th>\n",
       "      <td>150.000000</td>\n",
       "      <td>150.000000</td>\n",
       "      <td>150.000000</td>\n",
       "      <td>150.000000</td>\n",
       "    </tr>\n",
       "    <tr>\n",
       "      <th>mean</th>\n",
       "      <td>5.843333</td>\n",
       "      <td>3.057333</td>\n",
       "      <td>3.758000</td>\n",
       "      <td>1.199333</td>\n",
       "    </tr>\n",
       "    <tr>\n",
       "      <th>std</th>\n",
       "      <td>0.828066</td>\n",
       "      <td>0.435866</td>\n",
       "      <td>1.765298</td>\n",
       "      <td>0.762238</td>\n",
       "    </tr>\n",
       "    <tr>\n",
       "      <th>min</th>\n",
       "      <td>4.300000</td>\n",
       "      <td>2.000000</td>\n",
       "      <td>1.000000</td>\n",
       "      <td>0.100000</td>\n",
       "    </tr>\n",
       "    <tr>\n",
       "      <th>25%</th>\n",
       "      <td>5.100000</td>\n",
       "      <td>2.800000</td>\n",
       "      <td>1.600000</td>\n",
       "      <td>0.300000</td>\n",
       "    </tr>\n",
       "    <tr>\n",
       "      <th>50%</th>\n",
       "      <td>5.800000</td>\n",
       "      <td>3.000000</td>\n",
       "      <td>4.350000</td>\n",
       "      <td>1.300000</td>\n",
       "    </tr>\n",
       "    <tr>\n",
       "      <th>75%</th>\n",
       "      <td>6.400000</td>\n",
       "      <td>3.300000</td>\n",
       "      <td>5.100000</td>\n",
       "      <td>1.800000</td>\n",
       "    </tr>\n",
       "    <tr>\n",
       "      <th>max</th>\n",
       "      <td>7.900000</td>\n",
       "      <td>4.400000</td>\n",
       "      <td>6.900000</td>\n",
       "      <td>2.500000</td>\n",
       "    </tr>\n",
       "    <tr>\n",
       "      <th>var</th>\n",
       "      <td>0.681122</td>\n",
       "      <td>0.188713</td>\n",
       "      <td>3.095503</td>\n",
       "      <td>0.577133</td>\n",
       "    </tr>\n",
       "    <tr>\n",
       "      <th>sw</th>\n",
       "      <td>0.265008</td>\n",
       "      <td>0.115388</td>\n",
       "      <td>0.185188</td>\n",
       "      <td>0.041882</td>\n",
       "    </tr>\n",
       "    <tr>\n",
       "      <th>sb</th>\n",
       "      <td>0.421414</td>\n",
       "      <td>0.075633</td>\n",
       "      <td>2.914019</td>\n",
       "      <td>0.536089</td>\n",
       "    </tr>\n",
       "  </tbody>\n",
       "</table>\n",
       "</div>"
      ],
      "text/plain": [
       "       sepal_length  sepal_width  petal_length  petal_width\n",
       "count    150.000000   150.000000    150.000000   150.000000\n",
       "mean       5.843333     3.057333      3.758000     1.199333\n",
       "std        0.828066     0.435866      1.765298     0.762238\n",
       "min        4.300000     2.000000      1.000000     0.100000\n",
       "25%        5.100000     2.800000      1.600000     0.300000\n",
       "50%        5.800000     3.000000      4.350000     1.300000\n",
       "75%        6.400000     3.300000      5.100000     1.800000\n",
       "max        7.900000     4.400000      6.900000     2.500000\n",
       "var        0.681122     0.188713      3.095503     0.577133\n",
       "sw         0.265008     0.115388      0.185188     0.041882\n",
       "sb         0.421414     0.075633      2.914019     0.536089"
      ]
     },
     "execution_count": 41,
     "metadata": {},
     "output_type": "execute_result"
    }
   ],
   "source": [
    "info = calculate_stats(iris_df)\n",
    "info"
   ]
  },
  {
   "cell_type": "markdown",
   "metadata": {},
   "source": [
    "## Heatmap"
   ]
  },
  {
   "cell_type": "code",
   "execution_count": 44,
   "metadata": {},
   "outputs": [],
   "source": [
    "def draw_heatmap(iris_df):\n",
    "    iris_new = iris_df.replace({'setosa':1,'versicolor':2,'virginica':3}) # Replace labels\n",
    "    corr = iris_new.corr()\n",
    "    iris_new.head()\n",
    "    sns.heatmap(corr,cmap='jet')"
   ]
  },
  {
   "cell_type": "code",
   "execution_count": 45,
   "metadata": {},
   "outputs": [
    {
     "data": {
      "text/plain": [
       "<module 'matplotlib.pyplot' from 'c:\\\\users\\\\mushfique\\\\appdata\\\\local\\\\programs\\\\python\\\\python37-32\\\\lib\\\\site-packages\\\\matplotlib\\\\pyplot.py'>"
      ]
     },
     "execution_count": 45,
     "metadata": {},
     "output_type": "execute_result"
    },
    {
     "data": {
      "image/png": "[encoded data removed]",
      "text/plain": [
       "<Figure size 432x288 with 2 Axes>"
      ]
     },
     "metadata": {},
     "output_type": "display_data"
    }
   ],
   "source": [
    "draw_heatmap(iris_df)"
   ]
  },
  {
   "cell_type": "markdown",
   "metadata": {},
   "source": [
    "## Class vs Features plot"
   ]
  },
  {
   "cell_type": "code",
   "execution_count": 46,
   "metadata": {},
   "outputs": [],
   "source": [
    "def draw_class_vs_features(iris_df):\n",
    "    iris_new = iris_df.replace({'setosa':1,'versicolor':2,'virginica':3}) # Replace labels\n",
    "    plt.subplot(221)\n",
    "    plt.scatter(iris_new['sepal_length'],iris_new['label'],marker='x',c='r')\n",
    "    plt.title('SepL vs Class')\n",
    "    plt.xlim([0,8])\n",
    "    plt.subplot(222)\n",
    "    plt.scatter(iris_new['sepal_width'],iris_new['label'],marker='x',c='r')\n",
    "    plt.title('SepW vs Class')\n",
    "    plt.xlim([0,8])\n",
    "    plt.subplot(223)\n",
    "    plt.scatter(iris_new['petal_length'],iris_new['label'],marker='x',c='r')\n",
    "    plt.title('PetL vs Class')\n",
    "    plt.xlim([0,8])\n",
    "    plt.subplot(224)\n",
    "    plt.scatter(iris_new['petal_width'],iris_new['label'],marker='x',c='r')\n",
    "    plt.title('PetW vs Class')\n",
    "    plt.xlim([0,8])\n",
    "\n",
    "    plt.tight_layout() # To make sure there is gap between the plots"
   ]
  },
  {
   "cell_type": "code",
   "execution_count": 47,
   "metadata": {},
   "outputs": [
    {
     "data": {
      "image/png": "[encoded data removed]",
      "text/plain": [
       "<Figure size 432x288 with 4 Axes>"
      ]
     },
     "metadata": {},
     "output_type": "display_data"
    }
   ],
   "source": [
    "draw_class_vs_features(iris_df)"
   ]
  },
  {
   "cell_type": "markdown",
   "metadata": {},
   "source": [
    "## Important function definitions"
   ]
  },
  {
   "cell_type": "code",
   "execution_count": 48,
   "metadata": {},
   "outputs": [],
   "source": [
    "def train(X_copy,w,learning_rate):\n",
    "    c = 0\n",
    "    while True:\n",
    "        c += 1\n",
    "        res = np.dot(w,X_copy[:,:])\n",
    "        indices = np.where(res <= 0)[0]\n",
    "        #print(indices)\n",
    "        if len(indices) == 0: break\n",
    "        wrongs = X_copy[:,indices]\n",
    "        summed = np.sum(wrongs,axis=1)\n",
    "        w = w + learning_rate*summed\n",
    "    return((c,w))"
   ]
  },
  {
   "cell_type": "code",
   "execution_count": 69,
   "metadata": {},
   "outputs": [],
   "source": [
    "def flower_vs_rest_n_features_batch(iris_df,features,setosa = 1,virginica = -1,versicolor = -1):\n",
    "    iris_setosa = iris_df.copy()\n",
    "    iris_setosa['label'] = iris_setosa.label.replace({'setosa':setosa,'virginica':virginica,'versicolor':versicolor})\n",
    "    iris_setosa[features] = iris_setosa[features]\n",
    "    np.random.seed(42)\n",
    "    w_ini = np.random.randn(len(features)+1,)\n",
    "    learning_rate = 0.01\n",
    "    X = iris_setosa[features].values\n",
    "    y = iris_setosa[['label']].values\n",
    "    X = np.hstack([X,np.ones((X.shape[0],1))])\n",
    "    X_copy = np.copy(X)\n",
    "    X_copy = X_copy.T # Making X_copy 5 by 150\n",
    "    X_copy[:,y[:,0] == 0] = X_copy[:,y[:,0] == 0] *(-1)\n",
    "    (c,w) =  train(X_copy,w_ini,learning_rate)\n",
    "    return ((c,w,X,y))"
   ]
  },
  {
   "cell_type": "code",
   "execution_count": 50,
   "metadata": {},
   "outputs": [],
   "source": [
    "def flower_vs_rest_n_features_LS(iris_df,features,setosa = 1,virginica = 0,versicolor = 0):\n",
    "    iris_setosa = iris_df.copy()\n",
    "    iris_setosa['label'] = iris_setosa.label.replace({'setosa':setosa,'virginica':virginica,'versicolor':versicolor})\n",
    "    iris_setosa[features] = iris_setosa[features]\n",
    "    X = iris_setosa[features].values\n",
    "    X = np.hstack([X,np.ones((X.shape[0],1))])\n",
    "    y = iris_setosa['label'].values\n",
    "    W = np.dot(np.linalg.pinv(X),y)\n",
    "    return (W,X,y)\n",
    "    "
   ]
  },
  {
   "cell_type": "code",
   "execution_count": 38,
   "metadata": {},
   "outputs": [],
   "source": [
    "def make_meshgrid(x, y, h=.02):\n",
    "    \"\"\"Create a mesh of points to plot in\n",
    "\n",
    "    Parameters\n",
    "    ----------\n",
    "    x: data to base x-axis meshgrid on\n",
    "    y: data to base y-axis meshgrid on\n",
    "    h: stepsize for meshgrid, optional\n",
    "\n",
    "    Returns\n",
    "    -------\n",
    "    xx, yy : ndarray\n",
    "    \"\"\"\n",
    "    x_min, x_max = x.min() - 1, x.max() + 1\n",
    "    y_min, y_max = y.min() - 1, y.max() + 1\n",
    "    xx, yy = np.meshgrid(np.arange(x_min, x_max, h),\n",
    "                         np.arange(y_min, y_max, h))\n",
    "    return xx, yy"
   ]
  },
  {
   "cell_type": "markdown",
   "metadata": {},
   "source": [
    "## Setosa vs Rest using all features (Batch Perceptron and Least Squares)"
   ]
  },
  {
   "cell_type": "code",
   "execution_count": 52,
   "metadata": {},
   "outputs": [
    {
     "data": {
      "text/plain": [
       "array([ 0.06602977,  0.24284787, -0.22465712, -0.05747273,  0.11822289])"
      ]
     },
     "execution_count": 52,
     "metadata": {},
     "output_type": "execute_result"
    }
   ],
   "source": [
    "(W,X_LS,y_LS) = flower_vs_rest_n_features_LS(iris_df,['sepal_length', 'sepal_width', 'petal_length', 'petal_width'],1,0,0)\n",
    "W"
   ]
  },
  {
   "cell_type": "code",
   "execution_count": 53,
   "metadata": {},
   "outputs": [
    {
     "name": "stdout",
     "output_type": "stream",
     "text": [
      "[ 0.48771415  2.6877357  -5.50931146 -1.21397014  0.26584663]\n",
      "8\n"
     ]
    }
   ],
   "source": [
    "(c,w,X,y) = flower_vs_rest_n_features_batch(iris_df,['sepal_length', 'sepal_width', 'petal_length', 'petal_width'],1,0,0)\n",
    "print(w)\n",
    "print(c)"
   ]
  },
  {
   "cell_type": "code",
   "execution_count": 54,
   "metadata": {},
   "outputs": [],
   "source": [
    "def calculate_misclassifications(X,y,W):\n",
    "    preds = np.dot(X,W)\n",
    "    return ((preds < 0.5) ==  (y==1)).sum()"
   ]
  },
  {
   "cell_type": "markdown",
   "metadata": {},
   "source": [
    "## Number of misclassifications using Least Squares"
   ]
  },
  {
   "cell_type": "code",
   "execution_count": 55,
   "metadata": {},
   "outputs": [
    {
     "name": "stdout",
     "output_type": "stream",
     "text": [
      "0\n"
     ]
    }
   ],
   "source": [
    "wrongs = calculate_misclassifications(X_LS,y_LS,W)\n",
    "print(wrongs)"
   ]
  },
  {
   "cell_type": "markdown",
   "metadata": {},
   "source": [
    "## Setosa vs Rest using features 3 & 4 (Batch Perceptron and Least Squares)"
   ]
  },
  {
   "cell_type": "code",
   "execution_count": 70,
   "metadata": {},
   "outputs": [],
   "source": [
    "(c,w,X,y) = flower_vs_rest_n_features_batch(iris_df,['petal_length', 'petal_width'],1,0,0)"
   ]
  },
  {
   "cell_type": "code",
   "execution_count": 71,
   "metadata": {},
   "outputs": [
    {
     "name": "stdout",
     "output_type": "stream",
     "text": [
      "7\n",
      "[-0.75428585 -1.1992643   2.14768854]\n"
     ]
    }
   ],
   "source": [
    "print(c)\n",
    "print(w)"
   ]
  },
  {
   "cell_type": "code",
   "execution_count": 58,
   "metadata": {},
   "outputs": [],
   "source": [
    "(W,X_LS,y_LS) = flower_vs_rest_n_features_LS(iris_df,['petal_length', 'petal_width'],1,0,0)"
   ]
  },
  {
   "cell_type": "code",
   "execution_count": 59,
   "metadata": {},
   "outputs": [
    {
     "name": "stdout",
     "output_type": "stream",
     "text": [
      "[-0.25132905  0.00983426  1.26603335]\n"
     ]
    }
   ],
   "source": [
    "print(W)"
   ]
  },
  {
   "cell_type": "markdown",
   "metadata": {},
   "source": [
    "## Misclassifications using LS"
   ]
  },
  {
   "cell_type": "code",
   "execution_count": 60,
   "metadata": {},
   "outputs": [
    {
     "name": "stdout",
     "output_type": "stream",
     "text": [
      "1\n"
     ]
    }
   ],
   "source": [
    "wrongs = calculate_misclassifications(X_LS,y_LS,W)\n",
    "print(wrongs)"
   ]
  },
  {
   "cell_type": "markdown",
   "metadata": {},
   "source": [
    "## Decision boundary for LS for Setosa vs Rest using features 3 & 4"
   ]
  },
  {
   "cell_type": "code",
   "execution_count": 62,
   "metadata": {},
   "outputs": [
    {
     "data": {
      "text/plain": [
       "(0, 4)"
      ]
     },
     "execution_count": 62,
     "metadata": {},
     "output_type": "execute_result"
    },
    {
     "data": {
      "image/png": "[encoded data removed]",
      "text/plain": [
       "<Figure size 432x288 with 1 Axes>"
      ]
     },
     "metadata": {},
     "output_type": "display_data"
    }
   ],
   "source": [
    "xx,yy = make_meshgrid(X_LS[:,0],X_LS[:,1]) # We switched X2 back again to 3x150 for it to work here\n",
    "X_mesh = np.vstack([xx.ravel(),yy.ravel(),np.ones(xx.shape[0]*xx.shape[1])]) #3 by 156025\n",
    "clf = np.dot(W.T,X_mesh)\n",
    "plt.scatter(X_mesh[0,clf > 0.5],X_mesh[1,clf > 0.5],c='r')\n",
    "plt.scatter(X_mesh[0,clf <= 0.5],X_mesh[1,clf <= 0.5],c='g')\n",
    "plt.scatter(X_LS[y_LS==1,0],X_LS[y_LS==1,1],c='b',marker=\"+\") #Since y is 2D need y[0] is used y2 then could have done y==1\n",
    "plt.scatter(X_LS[y_LS==0,0],X_LS[y_LS==0,1],c='y',marker=\"o\")\n",
    "plt.ylim([0,4])"
   ]
  },
  {
   "cell_type": "markdown",
   "metadata": {},
   "source": [
    "## Decision boundary for Batch Perceptron for Setosa vs Rest using features 3 & 4"
   ]
  },
  {
   "cell_type": "code",
   "execution_count": 73,
   "metadata": {},
   "outputs": [
    {
     "data": {
      "text/plain": [
       "(0, 4)"
      ]
     },
     "execution_count": 73,
     "metadata": {},
     "output_type": "execute_result"
    },
    {
     "data": {
      "image/png": "[encoded data removed]",
      "text/plain": [
       "<Figure size 432x288 with 1 Axes>"
      ]
     },
     "metadata": {},
     "output_type": "display_data"
    }
   ],
   "source": [
    "xx,yy = make_meshgrid(X[:,0],X[:,1]) # We switched X2 back again to 3x150 for it to work here\n",
    "X_mesh = np.vstack([xx.ravel(),yy.ravel(),np.ones(xx.shape[0]*xx.shape[1])]) #3 by 156025\n",
    "clf = np.dot(w.T,X_mesh)\n",
    "plt.scatter(X_mesh[0,clf > 0],X_mesh[1,clf > 0],c='r')\n",
    "plt.scatter(X_mesh[0,clf <= 0],X_mesh[1,clf <= 0],c='g')\n",
    "plt.scatter(X[y.T[0]==1,0],X[y.T[0]==1,1],c='b',marker=\"+\") #Since y is 2D need y[0] is used y2 then could have done y==1\n",
    "plt.scatter(X[y.T[0]==0,0],X[y.T[0]==0,1],c='y',marker=\"o\")\n",
    "plt.ylim([0,4])"
   ]
  },
  {
   "cell_type": "markdown",
   "metadata": {},
   "source": [
    "## Virginica vs Rest using all features (LS)"
   ]
  },
  {
   "cell_type": "code",
   "execution_count": 74,
   "metadata": {},
   "outputs": [
    {
     "data": {
      "text/plain": [
       "array([-0.04587608,  0.20276839,  0.00398791,  0.55177932, -0.69528186])"
      ]
     },
     "execution_count": 74,
     "metadata": {},
     "output_type": "execute_result"
    }
   ],
   "source": [
    "(W,X_LS,y_LS) = flower_vs_rest_n_features_LS(iris_df,['sepal_length', 'sepal_width', 'petal_length', 'petal_width'],0,1,0)\n",
    "W"
   ]
  },
  {
   "cell_type": "markdown",
   "metadata": {},
   "source": [
    "## Misclassifications using LS for Virginica vs Rest all features"
   ]
  },
  {
   "cell_type": "code",
   "execution_count": 75,
   "metadata": {},
   "outputs": [
    {
     "name": "stdout",
     "output_type": "stream",
     "text": [
      "11\n"
     ]
    }
   ],
   "source": [
    "wrongs = calculate_misclassifications(X_LS,y_LS,W)\n",
    "print(wrongs)"
   ]
  },
  {
   "cell_type": "markdown",
   "metadata": {},
   "source": [
    "## Virginica vs Rest using features 3 & 4 (LS)"
   ]
  },
  {
   "cell_type": "code",
   "execution_count": 76,
   "metadata": {},
   "outputs": [
    {
     "data": {
      "text/plain": [
       "array([-0.07300611,  0.64025527, -0.16018919])"
      ]
     },
     "execution_count": 76,
     "metadata": {},
     "output_type": "execute_result"
    }
   ],
   "source": [
    "(W,X_LS,y_LS) = flower_vs_rest_n_features_LS(iris_df,['petal_length', 'petal_width'],0,1,0)\n",
    "W"
   ]
  },
  {
   "cell_type": "markdown",
   "metadata": {},
   "source": [
    "## Misclassifications using LS for Virginica vs Rest features 3 & 4"
   ]
  },
  {
   "cell_type": "code",
   "execution_count": 77,
   "metadata": {},
   "outputs": [
    {
     "name": "stdout",
     "output_type": "stream",
     "text": [
      "8\n"
     ]
    }
   ],
   "source": [
    "wrongs = calculate_misclassifications(X_LS,y_LS,W)\n",
    "print(wrongs)"
   ]
  },
  {
   "cell_type": "markdown",
   "metadata": {},
   "source": [
    "## Decision boundary for Virginica vs Rest using features 3 & 4"
   ]
  },
  {
   "cell_type": "code",
   "execution_count": 78,
   "metadata": {},
   "outputs": [
    {
     "data": {
      "text/plain": [
       "(0, 4)"
      ]
     },
     "execution_count": 78,
     "metadata": {},
     "output_type": "execute_result"
    },
    {
     "data": {
      "image/png": "[encoded data removed]",
      "text/plain": [
       "<Figure size 432x288 with 1 Axes>"
      ]
     },
     "metadata": {},
     "output_type": "display_data"
    }
   ],
   "source": [
    "xx,yy = make_meshgrid(X_LS[:,0],X_LS[:,0]) # We switched X2 back again to 3x150 for it to work here\n",
    "X_mesh = np.vstack([xx.ravel(),yy.ravel(),np.ones(xx.shape[0]*xx.shape[1])]) #3 by 156025\n",
    "clf = np.dot(W.T,X_mesh)\n",
    "plt.scatter(X_mesh[0,clf > 0.5],X_mesh[1,clf > 0.5],c='r')\n",
    "plt.scatter(X_mesh[0,clf <= 0.5],X_mesh[1,clf <= 0.5],c='g')\n",
    "plt.scatter(X_LS[y_LS==1,0],X_LS[y_LS==1,1],c='b',marker=\"+\") #Since y is 2D need y[0] is used y2 then could have done y==1\n",
    "plt.scatter(X_LS[y_LS==0,0],X_LS[y_LS==0,1],c='y',marker=\"o\")\n",
    "plt.ylim([0,4])"
   ]
  },
  {
   "cell_type": "markdown",
   "metadata": {},
   "source": [
    "## Important functions for Multiclass classification using features 3 & 4"
   ]
  },
  {
   "cell_type": "code",
   "execution_count": 8,
   "metadata": {},
   "outputs": [],
   "source": [
    "def make_label(r):\n",
    "    if r['setosa'] == 1:\n",
    "        return 1\n",
    "    elif r['virginica'] == 1:\n",
    "        return 3\n",
    "    else:\n",
    "        return 2\n",
    "def make_array(r):\n",
    "    max = r.max()\n",
    "    return pd.Series(r == max).astype(int)"
   ]
  },
  {
   "cell_type": "markdown",
   "metadata": {},
   "source": [
    "## Multiclass classification"
   ]
  },
  {
   "cell_type": "code",
   "execution_count": 47,
   "metadata": {},
   "outputs": [],
   "source": [
    "def is_setosa(row):\n",
    "    return row['label'] == 'setosa'  # boolean array of T/F\n",
    "def is_virgi(row):\n",
    "    return row['label'] == 'virginica'\n",
    "def is_versi(row):\n",
    "    return row['label'] == 'versicolor' \n",
    "setosa = iris_df.apply(is_setosa,axis = 1).astype(int) # makes it into 1s and 0s\n",
    "virgi = iris_df.apply(is_virgi,axis = 1).astype(int)\n",
    "versi = iris_df.apply(is_versi,axis = 1).astype(int)\n",
    "Target = pd.DataFrame({'setosa':setosa,'versicolor':versi,'virginica':virgi})"
   ]
  },
  {
   "cell_type": "code",
   "execution_count": 48,
   "metadata": {},
   "outputs": [
    {
     "name": "stdout",
     "output_type": "stream",
     "text": [
      "(150, 3)\n"
     ]
    },
    {
     "data": {
      "text/plain": [
       "array([[-0.25132905,  0.32433516, -0.07300611],\n",
       "       [ 0.00983426, -0.65008953,  0.64025527],\n",
       "       [ 1.26603335, -0.10584416, -0.16018919]])"
      ]
     },
     "execution_count": 48,
     "metadata": {},
     "output_type": "execute_result"
    }
   ],
   "source": [
    "X = iris_df[['petal_length','petal_width']]\n",
    "X  = np.hstack([X,np.ones((X.shape[0],1))]) # 150 by 3 now\n",
    "print(X.shape)\n",
    "W = np.linalg.pinv(X)@Target\n",
    "W"
   ]
  },
  {
   "cell_type": "code",
   "execution_count": 49,
   "metadata": {},
   "outputs": [],
   "source": [
    "res = np.dot(X,W) # preds\n",
    "Results = pd.DataFrame(res,columns=['setosa','versicolor','virginica'])\n",
    "R_c = Results.copy()"
   ]
  },
  {
   "cell_type": "markdown",
   "metadata": {},
   "source": [
    "## Misclassification calculation"
   ]
  },
  {
   "cell_type": "code",
   "execution_count": 50,
   "metadata": {},
   "outputs": [
    {
     "data": {
      "text/plain": [
       "116"
      ]
     },
     "execution_count": 50,
     "metadata": {},
     "output_type": "execute_result"
    }
   ],
   "source": [
    "Results = Results.apply(make_array,axis=1)\n",
    "Results['label'] = Results.apply(make_label,axis = 1)\n",
    "Target['label'] = Target.apply(make_label,axis = 1)\n",
    "(Results['label'] == Target['label']).sum()\n",
    "# Number of misclassifications = 150-116 = 34"
   ]
  },
  {
   "cell_type": "markdown",
   "metadata": {},
   "source": [
    "## Decision boundary for Multiclass classification using LS on features 3 & 4"
   ]
  },
  {
   "cell_type": "code",
   "execution_count": 45,
   "metadata": {},
   "outputs": [
    {
     "data": {
      "text/plain": [
       "(0, 7)"
      ]
     },
     "execution_count": 45,
     "metadata": {},
     "output_type": "execute_result"
    },
    {
     "data": {
      "image/png": "[encoded data removed]",
      "text/plain": [
       "<Figure size 432x288 with 1 Axes>"
      ]
     },
     "metadata": {},
     "output_type": "display_data"
    }
   ],
   "source": [
    "xx2,yy2 = make_meshgrid(X[:,0],X[:,1])\n",
    "xx = np.reshape(xx2,(xx2.ravel().shape[0],1))\n",
    "yy = np.reshape(yy2,(yy2.ravel().shape[0],1))\n",
    "X_mesh = np.hstack([xx,yy,np.ones((xx.shape[0]*xx.shape[1],1))]) #86200 by 3 now\n",
    "clf = np.dot(X_mesh,W)\n",
    "Clf = pd.DataFrame(clf,columns=['setosa','versicolor','virginica'])\n",
    "Clf = Clf.apply(make_array,axis=1)\n",
    "Clf['label'] = Clf.apply(make_label,axis = 1)\n",
    "plt.scatter(X_mesh[Clf['label']==1,0],X_mesh[Clf['label']==1,1],c='blue')\n",
    "plt.scatter(X_mesh[Clf['label']==2,0],X_mesh[Clf['label']==2,1],c='red')\n",
    "plt.scatter(X_mesh[Clf['label']==3,0],X_mesh[Clf['label']==3,1],c='green')\n",
    "# Y = np.array(Clf['label']) # Needed to make an ndarray otherwise .reshape wasnt working and np.reshape was giving error\n",
    "# Z = Y.reshape(xx2.shape) # Z needed to be a 2D array for contourf func\n",
    "labels = iris_df['label'].replace({'setosa':1,'virginica':3,'versicolor':2})\n",
    "# plt.contourf(xx2, yy2, Z, cmap=plt.cm.jet, alpha=.8) # xx2 and yy2 needed to be 1D i.e. (86200,)\n",
    "plt.scatter(X[labels == 1,0],X[labels == 1,1],c='g',marker='o',label = 'Setosa')\n",
    "plt.scatter(X[labels == 2,0],X[labels == 2,1],c='y',marker='x',label='Versicolor')\n",
    "plt.scatter(X[labels == 3,0],X[labels == 3,1],c='w',marker='+',label='Viriginica') # Needed to add label arg so that when calling plt.legend() it knows which symbolto attach to which text\n",
    "plt.legend()\n",
    "plt.ylim([0,3])\n",
    "plt.xlim([0,7])"
   ]
  }
 ],
 "metadata": {
  "kernelspec": {
   "display_name": "Python 3",
   "language": "python",
   "name": "python3"
  },
  "language_info": {
   "codemirror_mode": {
    "name": "ipython",
    "version": 3
   },
   "file_extension": ".py",
   "mimetype": "text/x-python",
   "name": "python",
   "nbconvert_exporter": "python",
   "pygments_lexer": "ipython3",
   "version": "3.7.0"
  }
 },
 "nbformat": 4,
 "nbformat_minor": 2
}
